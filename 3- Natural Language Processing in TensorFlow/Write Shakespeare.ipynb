{
  "nbformat": 4,
  "nbformat_minor": 0,
  "metadata": {
    "colab": {
      "name": "NLP_Week4_Exercise_Shakespeare_Answer.ipynb",
      "version": "0.3.2",
      "provenance": []
    },
    "kernelspec": {
      "name": "python2",
      "display_name": "Python 2"
    },
    "accelerator": "GPU"
  },
  "cells": [
    {
      "cell_type": "code",
      "metadata": {
        "id": "BOwsuGQQY9OL",
        "colab_type": "code",
        "colab": {}
      },
      "source": [
        "from tensorflow.keras.preprocessing.sequence import pad_sequences\n",
        "from tensorflow.keras.layers import Embedding, LSTM, Dense, Dropout, Bidirectional\n",
        "from tensorflow.keras.preprocessing.text import Tokenizer\n",
        "from tensorflow.keras.models import Sequential\n",
        "from tensorflow.keras.optimizers import Adam\n",
        "from tensorflow.keras import regularizers\n",
        "import tensorflow.keras.utils as ku \n",
        "import numpy as np "
      ],
      "execution_count": 0,
      "outputs": []
    },
    {
      "cell_type": "code",
      "metadata": {
        "colab_type": "code",
        "id": "PRnDnCW-Z7qv",
        "colab": {
          "base_uri": "https://localhost:8080/",
          "height": 204
        },
        "outputId": "6f793c50-4b70-4eb5-91ef-833929821512"
      },
      "source": [
        "tokenizer = Tokenizer()\n",
        "!wget --no-check-certificate \\\n",
        "    https://storage.googleapis.com/laurencemoroney-blog.appspot.com/sonnets.txt \\\n",
        "    -O /tmp/sonnets.txt\n",
        "data = open('/tmp/sonnets.txt').read()\n",
        "\n",
        "corpus = data.lower().split(\"\\n\")\n",
        "\n",
        "\n",
        "tokenizer.fit_on_texts(corpus)\n",
        "total_words = len(tokenizer.word_index) + 1\n",
        "\n",
        "# create input sequences using list of tokens\n",
        "input_sequences = []\n",
        "for line in corpus:\n",
        "\ttoken_list = tokenizer.texts_to_sequences([line])[0]\n",
        "\tfor i in range(1, len(token_list)):\n",
        "\t\tn_gram_sequence = token_list[:i+1]\n",
        "\t\tinput_sequences.append(n_gram_sequence)\n",
        "\n",
        "\n",
        "# pad sequences \n",
        "max_sequence_len = max([len(x) for x in input_sequences])\n",
        "input_sequences = np.array(pad_sequences(input_sequences, maxlen=max_sequence_len, padding='pre'))\n",
        "\n",
        "# create predictors and label\n",
        "predictors, label = input_sequences[:,:-1],input_sequences[:,-1]\n",
        "\n",
        "label = ku.to_categorical(label, num_classes=total_words)"
      ],
      "execution_count": 2,
      "outputs": [
        {
          "output_type": "stream",
          "text": [
            "--2019-09-05 20:41:25--  https://storage.googleapis.com/laurencemoroney-blog.appspot.com/sonnets.txt\n",
            "Resolving storage.googleapis.com (storage.googleapis.com)... 74.125.141.128, 2607:f8b0:400c:c06::80\n",
            "Connecting to storage.googleapis.com (storage.googleapis.com)|74.125.141.128|:443... connected.\n",
            "HTTP request sent, awaiting response... 200 OK\n",
            "Length: 93578 (91K) [text/plain]\n",
            "Saving to: ‘/tmp/sonnets.txt’\n",
            "\n",
            "\r/tmp/sonnets.txt      0%[                    ]       0  --.-KB/s               \r/tmp/sonnets.txt    100%[===================>]  91.38K  --.-KB/s    in 0.001s  \n",
            "\n",
            "2019-09-05 20:41:25 (149 MB/s) - ‘/tmp/sonnets.txt’ saved [93578/93578]\n",
            "\n"
          ],
          "name": "stdout"
        }
      ]
    },
    {
      "cell_type": "code",
      "metadata": {
        "id": "w9vH8Y59ajYL",
        "colab_type": "code",
        "colab": {
          "base_uri": "https://localhost:8080/",
          "height": 666
        },
        "outputId": "7b0bdac3-b472-4664-a58a-7499567e2300"
      },
      "source": [
        "model = Sequential()\n",
        "model.add(Embedding(total_words, 100, input_length=max_sequence_len-1))\n",
        "model.add(Bidirectional(LSTM(150, return_sequences = True)))\n",
        "model.add(Dropout(0.2))\n",
        "model.add(LSTM(100))\n",
        "model.add(Dense(total_words/2, activation='relu', kernel_regularizer=regularizers.l2(0.01)))\n",
        "model.add(Dense(total_words, activation='softmax'))\n",
        "model.compile(loss='categorical_crossentropy', optimizer='adam', metrics=['accuracy'])\n",
        "print(model.summary())\n"
      ],
      "execution_count": 3,
      "outputs": [
        {
          "output_type": "stream",
          "text": [
            "WARNING: Logging before flag parsing goes to stderr.\n",
            "W0905 20:41:27.080864 140612876724096 deprecation.py:506] From /usr/local/lib/python2.7/dist-packages/tensorflow/python/keras/initializers.py:119: calling __init__ (from tensorflow.python.ops.init_ops) with dtype is deprecated and will be removed in a future version.\n",
            "Instructions for updating:\n",
            "Call initializer instance with the dtype argument instead of passing it to the constructor\n",
            "W0905 20:41:27.114465 140612876724096 deprecation.py:506] From /usr/local/lib/python2.7/dist-packages/tensorflow/python/ops/init_ops.py:1251: calling __init__ (from tensorflow.python.ops.init_ops) with dtype is deprecated and will be removed in a future version.\n",
            "Instructions for updating:\n",
            "Call initializer instance with the dtype argument instead of passing it to the constructor\n",
            "W0905 20:41:27.125221 140612876724096 deprecation.py:506] From /usr/local/lib/python2.7/dist-packages/tensorflow/python/ops/init_ops.py:97: calling __init__ (from tensorflow.python.ops.init_ops) with dtype is deprecated and will be removed in a future version.\n",
            "Instructions for updating:\n",
            "Call initializer instance with the dtype argument instead of passing it to the constructor\n",
            "W0905 20:41:27.127444 140612876724096 deprecation.py:506] From /usr/local/lib/python2.7/dist-packages/tensorflow/python/ops/init_ops.py:97: calling __init__ (from tensorflow.python.ops.init_ops) with dtype is deprecated and will be removed in a future version.\n",
            "Instructions for updating:\n",
            "Call initializer instance with the dtype argument instead of passing it to the constructor\n",
            "W0905 20:41:27.128853 140612876724096 deprecation.py:506] From /usr/local/lib/python2.7/dist-packages/tensorflow/python/ops/init_ops.py:97: calling __init__ (from tensorflow.python.ops.init_ops) with dtype is deprecated and will be removed in a future version.\n",
            "Instructions for updating:\n",
            "Call initializer instance with the dtype argument instead of passing it to the constructor\n"
          ],
          "name": "stderr"
        },
        {
          "output_type": "stream",
          "text": [
            "Model: \"sequential\"\n",
            "_________________________________________________________________\n",
            "Layer (type)                 Output Shape              Param #   \n",
            "=================================================================\n",
            "embedding (Embedding)        (None, 10, 100)           321100    \n",
            "_________________________________________________________________\n",
            "bidirectional (Bidirectional (None, 10, 300)           301200    \n",
            "_________________________________________________________________\n",
            "dropout (Dropout)            (None, 10, 300)           0         \n",
            "_________________________________________________________________\n",
            "lstm_1 (LSTM)                (None, 100)               160400    \n",
            "_________________________________________________________________\n",
            "dense (Dense)                (None, 1605)              162105    \n",
            "_________________________________________________________________\n",
            "dense_1 (Dense)              (None, 3211)              5156866   \n",
            "=================================================================\n",
            "Total params: 6,101,671\n",
            "Trainable params: 6,101,671\n",
            "Non-trainable params: 0\n",
            "_________________________________________________________________\n",
            "None\n"
          ],
          "name": "stdout"
        }
      ]
    },
    {
      "cell_type": "code",
      "metadata": {
        "id": "AIg2f1HBxqof",
        "colab_type": "code",
        "colab": {
          "base_uri": "https://localhost:8080/",
          "height": 1000
        },
        "outputId": "25f32598-3ac3-4564-dff4-2d85a1537f0d"
      },
      "source": [
        " history = model.fit(predictors, label, epochs=100, verbose=1)"
      ],
      "execution_count": 4,
      "outputs": [
        {
          "output_type": "stream",
          "text": [
            "W0905 20:41:28.318041 140612876724096 deprecation.py:323] From /usr/local/lib/python2.7/dist-packages/tensorflow/python/ops/math_grad.py:1250: where (from tensorflow.python.ops.array_ops) is deprecated and will be removed in a future version.\n",
            "Instructions for updating:\n",
            "Use tf.where in 2.0, which has the same broadcast rule as np.where\n"
          ],
          "name": "stderr"
        },
        {
          "output_type": "stream",
          "text": [
            "Epoch 1/100\n",
            "15462/15462 [==============================] - 43s 3ms/sample - loss: 6.9015 - acc: 0.0200\n",
            "Epoch 2/100\n",
            "15462/15462 [==============================] - 41s 3ms/sample - loss: 6.5004 - acc: 0.0211\n",
            "Epoch 3/100\n",
            "15462/15462 [==============================] - 41s 3ms/sample - loss: 6.3992 - acc: 0.0242\n",
            "Epoch 4/100\n",
            "15462/15462 [==============================] - 41s 3ms/sample - loss: 6.2682 - acc: 0.0320\n",
            "Epoch 5/100\n",
            "15462/15462 [==============================] - 42s 3ms/sample - loss: 6.1632 - acc: 0.0382\n",
            "Epoch 6/100\n",
            "15462/15462 [==============================] - 41s 3ms/sample - loss: 6.0765 - acc: 0.0393\n",
            "Epoch 7/100\n",
            "15462/15462 [==============================] - 41s 3ms/sample - loss: 5.9947 - acc: 0.0404\n",
            "Epoch 8/100\n",
            "15462/15462 [==============================] - 41s 3ms/sample - loss: 5.9032 - acc: 0.0463\n",
            "Epoch 9/100\n",
            "15462/15462 [==============================] - 41s 3ms/sample - loss: 5.8039 - acc: 0.0520\n",
            "Epoch 10/100\n",
            "15462/15462 [==============================] - 41s 3ms/sample - loss: 5.6914 - acc: 0.0592\n",
            "Epoch 11/100\n",
            "15462/15462 [==============================] - 42s 3ms/sample - loss: 5.5784 - acc: 0.0653\n",
            "Epoch 12/100\n",
            "15462/15462 [==============================] - 42s 3ms/sample - loss: 5.4732 - acc: 0.0717\n",
            "Epoch 13/100\n",
            "15462/15462 [==============================] - 41s 3ms/sample - loss: 5.3589 - acc: 0.0792\n",
            "Epoch 14/100\n",
            "15462/15462 [==============================] - 41s 3ms/sample - loss: 5.2491 - acc: 0.0897\n",
            "Epoch 15/100\n",
            "15462/15462 [==============================] - 41s 3ms/sample - loss: 5.1417 - acc: 0.0973\n",
            "Epoch 16/100\n",
            "15462/15462 [==============================] - 41s 3ms/sample - loss: 5.0246 - acc: 0.1065\n",
            "Epoch 17/100\n",
            "15462/15462 [==============================] - 41s 3ms/sample - loss: 4.9153 - acc: 0.1177\n",
            "Epoch 18/100\n",
            "15462/15462 [==============================] - 42s 3ms/sample - loss: 4.8066 - acc: 0.1239\n",
            "Epoch 19/100\n",
            "15462/15462 [==============================] - 41s 3ms/sample - loss: 4.6966 - acc: 0.1337\n",
            "Epoch 20/100\n",
            "15462/15462 [==============================] - 41s 3ms/sample - loss: 4.5946 - acc: 0.1453\n",
            "Epoch 21/100\n",
            "15462/15462 [==============================] - 41s 3ms/sample - loss: 4.4871 - acc: 0.1553\n",
            "Epoch 22/100\n",
            "15462/15462 [==============================] - 41s 3ms/sample - loss: 4.3848 - acc: 0.1658\n",
            "Epoch 23/100\n",
            "15462/15462 [==============================] - 41s 3ms/sample - loss: 4.2756 - acc: 0.1779\n",
            "Epoch 24/100\n",
            "15462/15462 [==============================] - 41s 3ms/sample - loss: 4.1743 - acc: 0.1917\n",
            "Epoch 25/100\n",
            "15462/15462 [==============================] - 41s 3ms/sample - loss: 4.0623 - acc: 0.2074\n",
            "Epoch 26/100\n",
            "15462/15462 [==============================] - 42s 3ms/sample - loss: 3.9626 - acc: 0.2182\n",
            "Epoch 27/100\n",
            "15462/15462 [==============================] - 41s 3ms/sample - loss: 3.8634 - acc: 0.2328\n",
            "Epoch 28/100\n",
            "15462/15462 [==============================] - 41s 3ms/sample - loss: 3.7584 - acc: 0.2553\n",
            "Epoch 29/100\n",
            "15462/15462 [==============================] - 41s 3ms/sample - loss: 3.6643 - acc: 0.2735\n",
            "Epoch 30/100\n",
            "15462/15462 [==============================] - 41s 3ms/sample - loss: 3.5686 - acc: 0.2914\n",
            "Epoch 31/100\n",
            "15462/15462 [==============================] - 41s 3ms/sample - loss: 3.4689 - acc: 0.3140\n",
            "Epoch 32/100\n",
            "15462/15462 [==============================] - 42s 3ms/sample - loss: 3.3828 - acc: 0.3304\n",
            "Epoch 33/100\n",
            "15462/15462 [==============================] - 42s 3ms/sample - loss: 3.2933 - acc: 0.3508\n",
            "Epoch 34/100\n",
            "15462/15462 [==============================] - 41s 3ms/sample - loss: 3.2123 - acc: 0.3672\n",
            "Epoch 35/100\n",
            "15462/15462 [==============================] - 41s 3ms/sample - loss: 3.1302 - acc: 0.3882\n",
            "Epoch 36/100\n",
            "15462/15462 [==============================] - 41s 3ms/sample - loss: 3.0531 - acc: 0.4029\n",
            "Epoch 37/100\n",
            "15462/15462 [==============================] - 41s 3ms/sample - loss: 2.9840 - acc: 0.4146\n",
            "Epoch 38/100\n",
            "15462/15462 [==============================] - 42s 3ms/sample - loss: 2.9026 - acc: 0.4380\n",
            "Epoch 39/100\n",
            "15462/15462 [==============================] - 42s 3ms/sample - loss: 2.8265 - acc: 0.4530\n",
            "Epoch 40/100\n",
            "15462/15462 [==============================] - 42s 3ms/sample - loss: 2.7579 - acc: 0.4732\n",
            "Epoch 41/100\n",
            "15462/15462 [==============================] - 41s 3ms/sample - loss: 2.6931 - acc: 0.4812\n",
            "Epoch 42/100\n",
            "15462/15462 [==============================] - 41s 3ms/sample - loss: 2.6220 - acc: 0.5012\n",
            "Epoch 43/100\n",
            "15462/15462 [==============================] - 41s 3ms/sample - loss: 2.5632 - acc: 0.5130\n",
            "Epoch 44/100\n",
            "15462/15462 [==============================] - 41s 3ms/sample - loss: 2.5083 - acc: 0.5253\n",
            "Epoch 45/100\n",
            "15462/15462 [==============================] - 41s 3ms/sample - loss: 2.4470 - acc: 0.5358\n",
            "Epoch 46/100\n",
            "15462/15462 [==============================] - 41s 3ms/sample - loss: 2.4042 - acc: 0.5465\n",
            "Epoch 47/100\n",
            "15462/15462 [==============================] - 41s 3ms/sample - loss: 2.3510 - acc: 0.5576\n",
            "Epoch 48/100\n",
            "15462/15462 [==============================] - 41s 3ms/sample - loss: 2.2972 - acc: 0.5695\n",
            "Epoch 49/100\n",
            "15462/15462 [==============================] - 41s 3ms/sample - loss: 2.2439 - acc: 0.5790\n",
            "Epoch 50/100\n",
            "15462/15462 [==============================] - 41s 3ms/sample - loss: 2.1954 - acc: 0.5922\n",
            "Epoch 51/100\n",
            "15462/15462 [==============================] - 41s 3ms/sample - loss: 2.1600 - acc: 0.6006\n",
            "Epoch 52/100\n",
            "15462/15462 [==============================] - 41s 3ms/sample - loss: 2.1208 - acc: 0.6085\n",
            "Epoch 53/100\n",
            "15462/15462 [==============================] - 41s 3ms/sample - loss: 2.0800 - acc: 0.6199\n",
            "Epoch 54/100\n",
            "15462/15462 [==============================] - 41s 3ms/sample - loss: 2.0238 - acc: 0.6284\n",
            "Epoch 55/100\n",
            "15462/15462 [==============================] - 40s 3ms/sample - loss: 1.9795 - acc: 0.6434\n",
            "Epoch 56/100\n",
            "15462/15462 [==============================] - 40s 3ms/sample - loss: 1.9558 - acc: 0.6471\n",
            "Epoch 57/100\n",
            "15462/15462 [==============================] - 44s 3ms/sample - loss: 1.9116 - acc: 0.6570\n",
            "Epoch 58/100\n",
            "15462/15462 [==============================] - 42s 3ms/sample - loss: 1.8673 - acc: 0.6650\n",
            "Epoch 59/100\n",
            "15462/15462 [==============================] - 41s 3ms/sample - loss: 1.8466 - acc: 0.6662\n",
            "Epoch 60/100\n",
            "15462/15462 [==============================] - 42s 3ms/sample - loss: 1.8138 - acc: 0.6777\n",
            "Epoch 61/100\n",
            "15462/15462 [==============================] - 41s 3ms/sample - loss: 1.7763 - acc: 0.6852\n",
            "Epoch 62/100\n",
            "15462/15462 [==============================] - 41s 3ms/sample - loss: 1.7558 - acc: 0.6901\n",
            "Epoch 63/100\n",
            "15462/15462 [==============================] - 42s 3ms/sample - loss: 1.7210 - acc: 0.6961\n",
            "Epoch 64/100\n",
            "15462/15462 [==============================] - 42s 3ms/sample - loss: 1.7000 - acc: 0.7015\n",
            "Epoch 65/100\n",
            "15462/15462 [==============================] - 41s 3ms/sample - loss: 1.6760 - acc: 0.7037\n",
            "Epoch 66/100\n",
            "15462/15462 [==============================] - 42s 3ms/sample - loss: 1.6440 - acc: 0.7136\n",
            "Epoch 67/100\n",
            "15462/15462 [==============================] - 42s 3ms/sample - loss: 1.6158 - acc: 0.7173\n",
            "Epoch 68/100\n",
            "15462/15462 [==============================] - 42s 3ms/sample - loss: 1.5882 - acc: 0.7252\n",
            "Epoch 69/100\n",
            "15462/15462 [==============================] - 42s 3ms/sample - loss: 1.5652 - acc: 0.7281\n",
            "Epoch 70/100\n",
            "15462/15462 [==============================] - 42s 3ms/sample - loss: 1.5468 - acc: 0.7324\n",
            "Epoch 71/100\n",
            "15462/15462 [==============================] - 42s 3ms/sample - loss: 1.5226 - acc: 0.7348\n",
            "Epoch 72/100\n",
            "15462/15462 [==============================] - 42s 3ms/sample - loss: 1.5084 - acc: 0.7354\n",
            "Epoch 73/100\n",
            "15462/15462 [==============================] - 42s 3ms/sample - loss: 1.4742 - acc: 0.7441\n",
            "Epoch 74/100\n",
            "15462/15462 [==============================] - 42s 3ms/sample - loss: 1.4555 - acc: 0.7522\n",
            "Epoch 75/100\n",
            "15462/15462 [==============================] - 42s 3ms/sample - loss: 1.4428 - acc: 0.7529\n",
            "Epoch 76/100\n",
            "15462/15462 [==============================] - 41s 3ms/sample - loss: 1.4203 - acc: 0.7593\n",
            "Epoch 77/100\n",
            "15462/15462 [==============================] - 41s 3ms/sample - loss: 1.4033 - acc: 0.7592\n",
            "Epoch 78/100\n",
            "15462/15462 [==============================] - 42s 3ms/sample - loss: 1.3870 - acc: 0.7639\n",
            "Epoch 79/100\n",
            "15462/15462 [==============================] - 42s 3ms/sample - loss: 1.3741 - acc: 0.7629\n",
            "Epoch 80/100\n",
            "15462/15462 [==============================] - 42s 3ms/sample - loss: 1.3492 - acc: 0.7711\n",
            "Epoch 81/100\n",
            "15462/15462 [==============================] - 42s 3ms/sample - loss: 1.3402 - acc: 0.7712\n",
            "Epoch 82/100\n",
            "15462/15462 [==============================] - 42s 3ms/sample - loss: 1.3197 - acc: 0.7738\n",
            "Epoch 83/100\n",
            "15462/15462 [==============================] - 41s 3ms/sample - loss: 1.3031 - acc: 0.7746\n",
            "Epoch 84/100\n",
            "15462/15462 [==============================] - 41s 3ms/sample - loss: 1.2883 - acc: 0.7794\n",
            "Epoch 85/100\n",
            "15462/15462 [==============================] - 41s 3ms/sample - loss: 1.2875 - acc: 0.7758\n",
            "Epoch 86/100\n",
            "15462/15462 [==============================] - 42s 3ms/sample - loss: 1.2782 - acc: 0.7783\n",
            "Epoch 87/100\n",
            "15462/15462 [==============================] - 42s 3ms/sample - loss: 1.2475 - acc: 0.7841\n",
            "Epoch 88/100\n",
            "15462/15462 [==============================] - 42s 3ms/sample - loss: 1.2325 - acc: 0.7870\n",
            "Epoch 89/100\n",
            "15462/15462 [==============================] - 42s 3ms/sample - loss: 1.2278 - acc: 0.7891\n",
            "Epoch 90/100\n",
            "15462/15462 [==============================] - 42s 3ms/sample - loss: 1.2193 - acc: 0.7903\n",
            "Epoch 91/100\n",
            "15462/15462 [==============================] - 42s 3ms/sample - loss: 1.2049 - acc: 0.7903\n",
            "Epoch 92/100\n",
            "15462/15462 [==============================] - 42s 3ms/sample - loss: 1.1970 - acc: 0.7931\n",
            "Epoch 93/100\n",
            "15462/15462 [==============================] - 42s 3ms/sample - loss: 1.1924 - acc: 0.7949\n",
            "Epoch 94/100\n",
            "15462/15462 [==============================] - 42s 3ms/sample - loss: 1.1893 - acc: 0.7944\n",
            "Epoch 95/100\n",
            "15462/15462 [==============================] - 42s 3ms/sample - loss: 1.1696 - acc: 0.7971\n",
            "Epoch 96/100\n",
            "15462/15462 [==============================] - 42s 3ms/sample - loss: 1.1526 - acc: 0.7989\n",
            "Epoch 97/100\n",
            "15462/15462 [==============================] - 41s 3ms/sample - loss: 1.1388 - acc: 0.7998\n",
            "Epoch 98/100\n",
            "15462/15462 [==============================] - 41s 3ms/sample - loss: 1.1209 - acc: 0.8064\n",
            "Epoch 99/100\n",
            "15462/15462 [==============================] - 41s 3ms/sample - loss: 1.1252 - acc: 0.8046\n",
            "Epoch 100/100\n",
            "15462/15462 [==============================] - 42s 3ms/sample - loss: 1.1167 - acc: 0.8038\n"
          ],
          "name": "stdout"
        }
      ]
    },
    {
      "cell_type": "code",
      "metadata": {
        "id": "1fXTEO3GJ282",
        "colab_type": "code",
        "colab": {
          "base_uri": "https://localhost:8080/",
          "height": 545
        },
        "outputId": "5d1f4b4a-78bd-4ddc-ec89-45b5ba5abbce"
      },
      "source": [
        "import matplotlib.pyplot as plt\n",
        "acc = history.history['acc']\n",
        "loss = history.history['loss']\n",
        "\n",
        "epochs = range(len(acc))\n",
        "\n",
        "plt.plot(epochs, acc, 'b', label='Training accuracy')\n",
        "plt.title('Training accuracy')\n",
        "\n",
        "plt.figure()\n",
        "\n",
        "plt.plot(epochs, loss, 'b', label='Training Loss')\n",
        "plt.title('Training loss')\n",
        "plt.legend()\n",
        "\n",
        "plt.show()"
      ],
      "execution_count": 5,
      "outputs": [
        {
          "output_type": "display_data",
          "data": {
            "image/png": "[encoded data removed]",
            "text/plain": [
              "<Figure size 432x288 with 1 Axes>"
            ]
          },
          "metadata": {
            "tags": []
          }
        },
        {
          "output_type": "display_data",
          "data": {
            "image/png": "[encoded data removed]",
            "text/plain": [
              "<Figure size 432x288 with 1 Axes>"
            ]
          },
          "metadata": {
            "tags": []
          }
        }
      ]
    },
    {
      "cell_type": "code",
      "metadata": {
        "id": "6Vc6PHgxa6Hm",
        "colab_type": "code",
        "colab": {
          "base_uri": "https://localhost:8080/",
          "height": 54
        },
        "outputId": "a9b85c69-2425-4d95-bf92-6d7620f08c32"
      },
      "source": [
        "seed_text = \"Help me Obi Wan Kenobi, you're my only hope\"\n",
        "next_words = 100\n",
        "  \n",
        "for _ in range(next_words):\n",
        "\ttoken_list = tokenizer.texts_to_sequences([seed_text])[0]\n",
        "\ttoken_list = pad_sequences([token_list], maxlen=max_sequence_len-1, padding='pre')\n",
        "\tpredicted = model.predict_classes(token_list, verbose=0)\n",
        "\toutput_word = \"\"\n",
        "\tfor word, index in tokenizer.word_index.items():\n",
        "\t\tif index == predicted:\n",
        "\t\t\toutput_word = word\n",
        "\t\t\tbreak\n",
        "\tseed_text += \" \" + output_word\n",
        "print(seed_text)"
      ],
      "execution_count": 6,
      "outputs": [
        {
          "output_type": "stream",
          "text": [
            "Help me Obi Wan Kenobi, you're my only hope their eye with gracious must see take too lie in me day die her prove thee hate ' ' lies torn forsaken forsaken forsaken grossly affords cold breeds hid kind do thine bright slain take my use thee mine eye acquainted so clear ' doth prove bright thee live dear bright thee shows it am so strongly in thee hid confounds forth them mine bright thee die he write doth thee bright thee bright well bright thee grace an worthless overthrow enclose rain leaves grow up hate cold leaves cured precious cold cured date cold ' shows thee still bright\n"
          ],
          "name": "stdout"
        }
      ]
    }
  ]
}