{
  "nbformat": 4,
  "nbformat_minor": 0,
  "metadata": {
    "colab": {
      "name": "Course 3 - Week 3 - Lesson 2c.ipynb",
      "version": "0.3.2",
      "provenance": [],
      "collapsed_sections": []
    },
    "kernelspec": {
      "name": "python3",
      "display_name": "Python 3"
    },
    "accelerator": "GPU"
  },
  "cells": [
    {
      "cell_type": "code",
      "metadata": {
        "id": "jGwXGIXvFhXW",
        "colab_type": "code",
        "colab": {
          "base_uri": "https://localhost:8080/",
          "height": 1000
        },
        "outputId": "9c46d379-df2c-4533-8725-a240e63be608"
      },
      "source": [
        "import json\n",
        "import tensorflow as tf\n",
        "\n",
        "from tensorflow.keras.preprocessing.text import Tokenizer\n",
        "from tensorflow.keras.preprocessing.sequence import pad_sequences\n",
        "\n",
        "!wget --no-check-certificate \\\n",
        "    https://storage.googleapis.com/laurencemoroney-blog.appspot.com/sarcasm.json \\\n",
        "    -O /tmp/sarcasm.json\n",
        "\n",
        "vocab_size = 1000\n",
        "embedding_dim = 16\n",
        "max_length = 120\n",
        "trunc_type='post'\n",
        "padding_type='post'\n",
        "oov_tok = \"<OOV>\"\n",
        "training_size = 20000\n",
        "\n",
        "\n",
        "with open(\"/tmp/sarcasm.json\", 'r') as f:\n",
        "    datastore = json.load(f)\n",
        "\n",
        "\n",
        "sentences = []\n",
        "labels = []\n",
        "urls = []\n",
        "for item in datastore:\n",
        "    sentences.append(item['headline'])\n",
        "    labels.append(item['is_sarcastic'])\n",
        "\n",
        "training_sentences = sentences[0:training_size]\n",
        "testing_sentences = sentences[training_size:]\n",
        "training_labels = labels[0:training_size]\n",
        "testing_labels = labels[training_size:]\n",
        "\n",
        "tokenizer = Tokenizer(num_words=vocab_size, oov_token=oov_tok)\n",
        "tokenizer.fit_on_texts(training_sentences)\n",
        "\n",
        "word_index = tokenizer.word_index\n",
        "\n",
        "training_sequences = tokenizer.texts_to_sequences(training_sentences)\n",
        "training_padded = pad_sequences(training_sequences, maxlen=max_length, padding=padding_type, truncating=trunc_type)\n",
        "\n",
        "testing_sequences = tokenizer.texts_to_sequences(testing_sentences)\n",
        "testing_padded = pad_sequences(testing_sequences, maxlen=max_length, padding=padding_type, truncating=trunc_type)\n",
        "\n",
        "model = tf.keras.Sequential([\n",
        "    tf.keras.layers.Embedding(vocab_size, embedding_dim, input_length=max_length),\n",
        "    tf.keras.layers.Conv1D(128, 5, activation='relu'),\n",
        "    tf.keras.layers.GlobalMaxPooling1D(),\n",
        "    tf.keras.layers.Dense(24, activation='relu'),\n",
        "    tf.keras.layers.Dense(1, activation='sigmoid')\n",
        "])\n",
        "model.compile(loss='binary_crossentropy',optimizer='adam',metrics=['accuracy'])\n",
        "model.summary()\n",
        "\n",
        "num_epochs = 50\n",
        "history = model.fit(training_padded, training_labels, epochs=num_epochs, validation_data=(testing_padded, testing_labels), verbose=1)\n",
        "\n"
      ],
      "execution_count": 1,
      "outputs": [
        {
          "output_type": "stream",
          "text": [
            "--2019-09-05 19:42:29--  https://storage.googleapis.com/laurencemoroney-blog.appspot.com/sarcasm.json\n",
            "Resolving storage.googleapis.com (storage.googleapis.com)... 216.58.197.240, 2404:6800:4004:80b::2010\n",
            "Connecting to storage.googleapis.com (storage.googleapis.com)|216.58.197.240|:443... connected.\n",
            "HTTP request sent, awaiting response... 200 OK\n",
            "Length: 5643545 (5.4M) [application/json]\n",
            "Saving to: ‘/tmp/sarcasm.json’\n",
            "\n",
            "/tmp/sarcasm.json   100%[===================>]   5.38M  --.-KB/s    in 0.05s   \n",
            "\n",
            "2019-09-05 19:42:30 (113 MB/s) - ‘/tmp/sarcasm.json’ saved [5643545/5643545]\n",
            "\n"
          ],
          "name": "stdout"
        },
        {
          "output_type": "stream",
          "text": [
            "WARNING: Logging before flag parsing goes to stderr.\n",
            "W0905 19:42:31.656938 140440559081344 deprecation.py:506] From /usr/local/lib/python3.6/dist-packages/tensorflow/python/keras/initializers.py:119: calling RandomUniform.__init__ (from tensorflow.python.ops.init_ops) with dtype is deprecated and will be removed in a future version.\n",
            "Instructions for updating:\n",
            "Call initializer instance with the dtype argument instead of passing it to the constructor\n",
            "W0905 19:42:31.660797 140440559081344 deprecation.py:506] From /usr/local/lib/python3.6/dist-packages/tensorflow/python/ops/init_ops.py:1251: calling VarianceScaling.__init__ (from tensorflow.python.ops.init_ops) with dtype is deprecated and will be removed in a future version.\n",
            "Instructions for updating:\n",
            "Call initializer instance with the dtype argument instead of passing it to the constructor\n",
            "W0905 19:42:31.781987 140440559081344 deprecation.py:323] From /usr/local/lib/python3.6/dist-packages/tensorflow/python/ops/nn_impl.py:180: add_dispatch_support.<locals>.wrapper (from tensorflow.python.ops.array_ops) is deprecated and will be removed in a future version.\n",
            "Instructions for updating:\n",
            "Use tf.where in 2.0, which has the same broadcast rule as np.where\n"
          ],
          "name": "stderr"
        },
        {
          "output_type": "stream",
          "text": [
            "Model: \"sequential\"\n",
            "_________________________________________________________________\n",
            "Layer (type)                 Output Shape              Param #   \n",
            "=================================================================\n",
            "embedding (Embedding)        (None, 120, 16)           16000     \n",
            "_________________________________________________________________\n",
            "conv1d (Conv1D)              (None, 116, 128)          10368     \n",
            "_________________________________________________________________\n",
            "global_max_pooling1d (Global (None, 128)               0         \n",
            "_________________________________________________________________\n",
            "dense (Dense)                (None, 24)                3096      \n",
            "_________________________________________________________________\n",
            "dense_1 (Dense)              (None, 1)                 25        \n",
            "=================================================================\n",
            "Total params: 29,489\n",
            "Trainable params: 29,489\n",
            "Non-trainable params: 0\n",
            "_________________________________________________________________\n",
            "Train on 20000 samples, validate on 6709 samples\n",
            "Epoch 1/50\n",
            "20000/20000 [==============================] - 6s 312us/sample - loss: 0.4798 - acc: 0.7528 - val_loss: 0.4077 - val_acc: 0.8104\n",
            "Epoch 2/50\n",
            "20000/20000 [==============================] - 3s 134us/sample - loss: 0.3616 - acc: 0.8364 - val_loss: 0.3957 - val_acc: 0.8229\n",
            "Epoch 3/50\n",
            "20000/20000 [==============================] - 3s 140us/sample - loss: 0.3260 - acc: 0.8558 - val_loss: 0.3868 - val_acc: 0.8253\n",
            "Epoch 4/50\n",
            "20000/20000 [==============================] - 3s 138us/sample - loss: 0.2914 - acc: 0.8748 - val_loss: 0.4110 - val_acc: 0.8228\n",
            "Epoch 5/50\n",
            "20000/20000 [==============================] - 3s 137us/sample - loss: 0.2569 - acc: 0.8924 - val_loss: 0.4264 - val_acc: 0.8159\n",
            "Epoch 6/50\n",
            "20000/20000 [==============================] - 3s 136us/sample - loss: 0.2224 - acc: 0.9090 - val_loss: 0.4532 - val_acc: 0.8174\n",
            "Epoch 7/50\n",
            "20000/20000 [==============================] - 3s 135us/sample - loss: 0.1894 - acc: 0.9255 - val_loss: 0.5019 - val_acc: 0.8153\n",
            "Epoch 8/50\n",
            "20000/20000 [==============================] - 3s 140us/sample - loss: 0.1594 - acc: 0.9380 - val_loss: 0.5582 - val_acc: 0.8101\n",
            "Epoch 9/50\n",
            "20000/20000 [==============================] - 3s 138us/sample - loss: 0.1298 - acc: 0.9509 - val_loss: 0.6225 - val_acc: 0.8052\n",
            "Epoch 10/50\n",
            "20000/20000 [==============================] - 3s 140us/sample - loss: 0.1083 - acc: 0.9617 - val_loss: 0.7158 - val_acc: 0.8001\n",
            "Epoch 11/50\n",
            "20000/20000 [==============================] - 3s 135us/sample - loss: 0.0897 - acc: 0.9682 - val_loss: 0.8114 - val_acc: 0.8035\n",
            "Epoch 12/50\n",
            "20000/20000 [==============================] - 3s 133us/sample - loss: 0.0762 - acc: 0.9732 - val_loss: 0.9840 - val_acc: 0.7918\n",
            "Epoch 13/50\n",
            "20000/20000 [==============================] - 3s 135us/sample - loss: 0.0645 - acc: 0.9785 - val_loss: 0.9581 - val_acc: 0.7925\n",
            "Epoch 14/50\n",
            "20000/20000 [==============================] - 3s 133us/sample - loss: 0.0549 - acc: 0.9803 - val_loss: 1.0469 - val_acc: 0.7988\n",
            "Epoch 15/50\n",
            "20000/20000 [==============================] - 3s 138us/sample - loss: 0.0512 - acc: 0.9815 - val_loss: 1.1536 - val_acc: 0.7915\n",
            "Epoch 16/50\n",
            "20000/20000 [==============================] - 3s 135us/sample - loss: 0.0472 - acc: 0.9826 - val_loss: 1.2327 - val_acc: 0.7907\n",
            "Epoch 17/50\n",
            "20000/20000 [==============================] - 3s 136us/sample - loss: 0.0454 - acc: 0.9826 - val_loss: 1.3024 - val_acc: 0.7952\n",
            "Epoch 18/50\n",
            "20000/20000 [==============================] - 3s 138us/sample - loss: 0.0428 - acc: 0.9842 - val_loss: 1.3548 - val_acc: 0.7916\n",
            "Epoch 19/50\n",
            "20000/20000 [==============================] - 3s 137us/sample - loss: 0.0374 - acc: 0.9857 - val_loss: 1.5139 - val_acc: 0.7936\n",
            "Epoch 20/50\n",
            "20000/20000 [==============================] - 3s 135us/sample - loss: 0.0333 - acc: 0.9869 - val_loss: 1.5835 - val_acc: 0.7925\n",
            "Epoch 21/50\n",
            "20000/20000 [==============================] - 3s 132us/sample - loss: 0.0306 - acc: 0.9879 - val_loss: 1.6055 - val_acc: 0.7901\n",
            "Epoch 22/50\n",
            "20000/20000 [==============================] - 3s 134us/sample - loss: 0.0330 - acc: 0.9868 - val_loss: 1.6949 - val_acc: 0.7907\n",
            "Epoch 23/50\n",
            "20000/20000 [==============================] - 3s 136us/sample - loss: 0.0357 - acc: 0.9855 - val_loss: 1.6729 - val_acc: 0.7842\n",
            "Epoch 24/50\n",
            "20000/20000 [==============================] - 3s 134us/sample - loss: 0.0312 - acc: 0.9876 - val_loss: 1.8344 - val_acc: 0.7883\n",
            "Epoch 25/50\n",
            "20000/20000 [==============================] - 3s 141us/sample - loss: 0.0274 - acc: 0.9891 - val_loss: 1.7762 - val_acc: 0.7888\n",
            "Epoch 26/50\n",
            "20000/20000 [==============================] - 3s 136us/sample - loss: 0.0252 - acc: 0.9900 - val_loss: 1.8586 - val_acc: 0.7892\n",
            "Epoch 27/50\n",
            "20000/20000 [==============================] - 3s 140us/sample - loss: 0.0251 - acc: 0.9900 - val_loss: 1.9283 - val_acc: 0.7919\n",
            "Epoch 28/50\n",
            "20000/20000 [==============================] - 3s 138us/sample - loss: 0.0281 - acc: 0.9879 - val_loss: 2.0803 - val_acc: 0.7895\n",
            "Epoch 29/50\n",
            "20000/20000 [==============================] - 3s 136us/sample - loss: 0.0349 - acc: 0.9856 - val_loss: 1.8822 - val_acc: 0.7879\n",
            "Epoch 30/50\n",
            "20000/20000 [==============================] - 3s 137us/sample - loss: 0.0303 - acc: 0.9880 - val_loss: 2.0528 - val_acc: 0.7849\n",
            "Epoch 31/50\n",
            "20000/20000 [==============================] - 3s 138us/sample - loss: 0.0232 - acc: 0.9898 - val_loss: 2.0220 - val_acc: 0.7889\n",
            "Epoch 32/50\n",
            "20000/20000 [==============================] - 3s 138us/sample - loss: 0.0215 - acc: 0.9905 - val_loss: 2.0787 - val_acc: 0.7883\n",
            "Epoch 33/50\n",
            "20000/20000 [==============================] - 3s 137us/sample - loss: 0.0230 - acc: 0.9904 - val_loss: 2.1496 - val_acc: 0.7879\n",
            "Epoch 34/50\n",
            "20000/20000 [==============================] - 3s 138us/sample - loss: 0.0246 - acc: 0.9894 - val_loss: 2.1448 - val_acc: 0.7915\n",
            "Epoch 35/50\n",
            "20000/20000 [==============================] - 3s 136us/sample - loss: 0.0258 - acc: 0.9894 - val_loss: 2.1328 - val_acc: 0.7854\n",
            "Epoch 36/50\n",
            "20000/20000 [==============================] - 3s 138us/sample - loss: 0.0240 - acc: 0.9900 - val_loss: 2.2665 - val_acc: 0.7886\n",
            "Epoch 37/50\n",
            "20000/20000 [==============================] - 3s 133us/sample - loss: 0.0235 - acc: 0.9901 - val_loss: 2.3513 - val_acc: 0.7866\n",
            "Epoch 38/50\n",
            "20000/20000 [==============================] - 3s 137us/sample - loss: 0.0265 - acc: 0.9887 - val_loss: 2.3506 - val_acc: 0.7860\n",
            "Epoch 39/50\n",
            "20000/20000 [==============================] - 3s 134us/sample - loss: 0.0221 - acc: 0.9908 - val_loss: 2.4259 - val_acc: 0.7889\n",
            "Epoch 40/50\n",
            "20000/20000 [==============================] - 3s 135us/sample - loss: 0.0209 - acc: 0.9907 - val_loss: 2.4282 - val_acc: 0.7891\n",
            "Epoch 41/50\n",
            "20000/20000 [==============================] - 3s 140us/sample - loss: 0.0191 - acc: 0.9917 - val_loss: 2.4384 - val_acc: 0.7874\n",
            "Epoch 42/50\n",
            "20000/20000 [==============================] - 3s 134us/sample - loss: 0.0177 - acc: 0.9919 - val_loss: 2.4770 - val_acc: 0.7910\n",
            "Epoch 43/50\n",
            "20000/20000 [==============================] - 3s 137us/sample - loss: 0.0161 - acc: 0.9926 - val_loss: 2.7541 - val_acc: 0.7927\n",
            "Epoch 44/50\n",
            "20000/20000 [==============================] - 3s 138us/sample - loss: 0.0283 - acc: 0.9884 - val_loss: 2.5063 - val_acc: 0.7867\n",
            "Epoch 45/50\n",
            "20000/20000 [==============================] - 3s 139us/sample - loss: 0.0232 - acc: 0.9901 - val_loss: 2.7985 - val_acc: 0.7830\n",
            "Epoch 46/50\n",
            "20000/20000 [==============================] - 3s 136us/sample - loss: 0.0222 - acc: 0.9905 - val_loss: 2.6369 - val_acc: 0.7858\n",
            "Epoch 47/50\n",
            "20000/20000 [==============================] - 3s 137us/sample - loss: 0.0201 - acc: 0.9912 - val_loss: 2.6291 - val_acc: 0.7879\n",
            "Epoch 48/50\n",
            "20000/20000 [==============================] - 3s 140us/sample - loss: 0.0230 - acc: 0.9898 - val_loss: 2.7522 - val_acc: 0.7870\n",
            "Epoch 49/50\n",
            "20000/20000 [==============================] - 3s 141us/sample - loss: 0.0186 - acc: 0.9920 - val_loss: 2.7339 - val_acc: 0.7870\n",
            "Epoch 50/50\n",
            "20000/20000 [==============================] - 3s 140us/sample - loss: 0.0185 - acc: 0.9918 - val_loss: 2.7464 - val_acc: 0.7864\n"
          ],
          "name": "stdout"
        }
      ]
    },
    {
      "cell_type": "code",
      "metadata": {
        "id": "g9DC6dmLF8DC",
        "colab_type": "code",
        "colab": {
          "base_uri": "https://localhost:8080/",
          "height": 549
        },
        "outputId": "99c220b7-a585-4143-b2a2-894cc7bdee88"
      },
      "source": [
        "import matplotlib.pyplot as plt\n",
        "\n",
        "\n",
        "def plot_graphs(history, string):\n",
        "  plt.plot(history.history[string])\n",
        "  plt.plot(history.history['val_'+string])\n",
        "  plt.xlabel(\"Epochs\")\n",
        "  plt.ylabel(string)\n",
        "  plt.legend([string, 'val_'+string])\n",
        "  plt.show()\n",
        "\n",
        "plot_graphs(history, 'acc')\n",
        "plot_graphs(history, 'loss')"
      ],
      "execution_count": 2,
      "outputs": [
        {
          "output_type": "display_data",
          "data": {
            "image/png": "[encoded data removed]",
            "text/plain": [
              "<Figure size 432x288 with 1 Axes>"
            ]
          },
          "metadata": {
            "tags": []
          }
        },
        {
          "output_type": "display_data",
          "data": {
            "image/png": "[encoded data removed]",
            "text/plain": [
              "<Figure size 432x288 with 1 Axes>"
            ]
          },
          "metadata": {
            "tags": []
          }
        }
      ]
    },
    {
      "cell_type": "code",
      "metadata": {
        "id": "7ZEZIUppGhdi",
        "colab_type": "code",
        "colab": {}
      },
      "source": [
        "model.save(\"test.h5\")"
      ],
      "execution_count": 0,
      "outputs": []
    }
  ]
}