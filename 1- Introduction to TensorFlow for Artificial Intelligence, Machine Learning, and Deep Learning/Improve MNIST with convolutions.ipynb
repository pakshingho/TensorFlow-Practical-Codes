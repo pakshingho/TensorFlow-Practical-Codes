{
  "nbformat": 4,
  "nbformat_minor": 0,
  "metadata": {
    "colab": {
      "name": "Exercise 3 - Question.ipynb",
      "version": "0.3.2",
      "provenance": [],
      "collapsed_sections": []
    },
    "kernelspec": {
      "name": "python3",
      "display_name": "Python 3"
    },
    "accelerator": "GPU"
  },
  "cells": [
    {
      "cell_type": "markdown",
      "metadata": {
        "id": "iQjHqsmTAVLU",
        "colab_type": "text"
      },
      "source": [
        "## Improve MNIST with convolutions\n",
        "Here see if you can improve MNIST to 99.8% accuracy or more using only a single convolutional layer and a single MaxPooling 2D. You should stop training once the accuracy goes above this amount. It should happen in less than 20 epochs, so it's ok to hard code the number of epochs for training, but your training must end once it hits the above metric. If it doesn't, then you'll need to redesign your layers.\n",
        "\n",
        "I've started the code for you -- you need to finish it!\n",
        "\n",
        "When 99.8% accuracy has been hit, you should print out the string \"Reached 99.8% accuracy so cancelling training!\"\n"
      ]
    },
    {
      "cell_type": "code",
      "metadata": {
        "id": "sfQRyaJWAIdg",
        "colab_type": "code",
        "colab": {
          "base_uri": "https://localhost:8080/",
          "height": 496
        },
        "outputId": "ef77d4d7-9519-48cf-a558-8eb6f04c9517"
      },
      "source": [
        "import tensorflow as tf\n",
        "\n",
        "class myCallback(tf.keras.callbacks.Callback):\n",
        "  def on_epoch_end(self, epoch, logs={}):\n",
        "    if(logs.get('acc')>0.998):\n",
        "      print(\"\\nReached 99.8% accuracy so cancelling training!\")\n",
        "      self.model.stop_training = True\n",
        "\n",
        "callbacks = myCallback()\n",
        "mnist = tf.keras.datasets.mnist\n",
        "(training_images, training_labels), (test_images, test_labels) = mnist.load_data()\n",
        "training_images=training_images.reshape(60000, 28, 28, 1)\n",
        "training_images=training_images / 255.0\n",
        "test_images = test_images.reshape(10000, 28, 28, 1)\n",
        "test_images=test_images/255.0\n",
        "model = tf.keras.models.Sequential([\n",
        "  tf.keras.layers.Conv2D(32, (3,3), activation='relu', input_shape=(28, 28, 1)),\n",
        "  tf.keras.layers.MaxPooling2D(2, 2),\n",
        "  tf.keras.layers.Flatten(),\n",
        "  tf.keras.layers.Dense(128, activation='relu'),\n",
        "  tf.keras.layers.Dense(10, activation='softmax')\n",
        "])\n",
        "model.compile(optimizer='adam', loss='sparse_categorical_crossentropy', metrics=['accuracy'])\n",
        "model.fit(training_images, training_labels, epochs=10, callbacks=[callbacks])"
      ],
      "execution_count": 1,
      "outputs": [
        {
          "output_type": "stream",
          "text": [
            "Downloading data from https://storage.googleapis.com/tensorflow/tf-keras-datasets/mnist.npz\n",
            "11493376/11490434 [==============================] - 0s 0us/step\n"
          ],
          "name": "stdout"
        },
        {
          "output_type": "stream",
          "text": [
            "WARNING: Logging before flag parsing goes to stderr.\n",
            "W0904 02:08:15.733314 139748003694464 deprecation.py:506] From /usr/local/lib/python3.6/dist-packages/tensorflow/python/ops/init_ops.py:1251: calling VarianceScaling.__init__ (from tensorflow.python.ops.init_ops) with dtype is deprecated and will be removed in a future version.\n",
            "Instructions for updating:\n",
            "Call initializer instance with the dtype argument instead of passing it to the constructor\n"
          ],
          "name": "stderr"
        },
        {
          "output_type": "stream",
          "text": [
            "Epoch 1/10\n",
            "60000/60000 [==============================] - 11s 187us/sample - loss: 0.1517 - acc: 0.9545\n",
            "Epoch 2/10\n",
            "60000/60000 [==============================] - 9s 142us/sample - loss: 0.0521 - acc: 0.9835\n",
            "Epoch 3/10\n",
            "60000/60000 [==============================] - 9s 142us/sample - loss: 0.0321 - acc: 0.9901\n",
            "Epoch 4/10\n",
            "60000/60000 [==============================] - 9s 142us/sample - loss: 0.0216 - acc: 0.9928\n",
            "Epoch 5/10\n",
            "60000/60000 [==============================] - 9s 142us/sample - loss: 0.0142 - acc: 0.9954\n",
            "Epoch 6/10\n",
            "60000/60000 [==============================] - 9s 143us/sample - loss: 0.0106 - acc: 0.9966\n",
            "Epoch 7/10\n",
            "60000/60000 [==============================] - 9s 142us/sample - loss: 0.0087 - acc: 0.9970\n",
            "Epoch 8/10\n",
            "60000/60000 [==============================] - 8s 142us/sample - loss: 0.0075 - acc: 0.9974\n",
            "Epoch 9/10\n",
            "59776/60000 [============================>.] - ETA: 0s - loss: 0.0057 - acc: 0.9980\n",
            "Reached 99.8% accuracy so cancelling training!\n",
            "60000/60000 [==============================] - 9s 143us/sample - loss: 0.0056 - acc: 0.9980\n"
          ],
          "name": "stdout"
        },
        {
          "output_type": "execute_result",
          "data": {
            "text/plain": [
              "<tensorflow.python.keras.callbacks.History at 0x7f1943615128>"
            ]
          },
          "metadata": {
            "tags": []
          },
          "execution_count": 1
        }
      ]
    }
  ]
}